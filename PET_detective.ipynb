{
  "nbformat": 4,
  "nbformat_minor": 0,
  "metadata": {
    "colab": {
      "provenance": [],
      "mount_file_id": "1rkiybLu5K09hcNSA_2K18SpaX7arEFaq",
      "authorship_tag": "ABX9TyPVKtxlJ7XLlCoyhEIhL+b8",
      "include_colab_link": true
    },
    "kernelspec": {
      "name": "python3",
      "display_name": "Python 3"
    },
    "language_info": {
      "name": "python"
    }
  },
  "cells": [
    {
      "cell_type": "markdown",
      "metadata": {
        "id": "view-in-github",
        "colab_type": "text"
      },
      "source": [
        "<a href=\"https://colab.research.google.com/github/bschelske/MMP9/blob/master/PET_detective.ipynb\" target=\"_parent\"><img src=\"https://colab.research.google.com/assets/colab-badge.svg\" alt=\"Open In Colab\"/></a>"
      ]
    },
    {
      "cell_type": "markdown",
      "source": [
        "# PET Detective\n",
        "*Phycoertherin (PE) Tag Detective*\n",
        "\n",
        "Using imageJ macro outputs, this code will background subtract cell containing chambers and create a new csv of only cell containing chambers.\n",
        "\n"
      ],
      "metadata": {
        "id": "ts3Y44sYt2_s"
      }
    },
    {
      "cell_type": "markdown",
      "source": [
        "Mount ben drive to access ben files"
      ],
      "metadata": {
        "id": "tEgzmsl6sNZ1"
      }
    },
    {
      "cell_type": "code",
      "source": [
        "# Load the Drive helper and mount\n",
        "from google.colab import drive\n",
        "\n",
        "# This will prompt for authorization.\n",
        "drive.mount('/content/drive')"
      ],
      "metadata": {
        "id": "1ISqJV7XJQWz",
        "colab": {
          "base_uri": "https://localhost:8080/"
        },
        "outputId": "f7acaed5-d5ae-440e-e775-68cae3b88abe"
      },
      "execution_count": null,
      "outputs": [
        {
          "output_type": "stream",
          "name": "stdout",
          "text": [
            "Drive already mounted at /content/drive; to attempt to forcibly remount, call drive.mount(\"/content/drive\", force_remount=True).\n"
          ]
        }
      ]
    },
    {
      "cell_type": "markdown",
      "source": [
        "Compile functions and import packages"
      ],
      "metadata": {
        "id": "qIeeELQXsS3e"
      }
    },
    {
      "cell_type": "code",
      "source": [
        "import re\n",
        "import os\n",
        "import pandas as pd\n",
        "#Functions for entire process\n",
        "\n",
        "\n",
        "#Find files:\n",
        "\n",
        "def find_files():\n",
        "  parent_dir = \"/content/drive/My Drive/MMP9 Before Petdet/\"\n",
        "  files =[parent_dir+f for f in os.listdir(parent_dir) if os.path.isfile(parent_dir+f)]\n",
        "  labels = [f[:-4] for f in os.listdir(parent_dir) if os.path.isfile(parent_dir+f)]\n",
        "  # print('files in ' + parent_dir +':')\n",
        "  # for f in labels: print(f)\n",
        "  return files\n",
        "\n",
        "#Sort drive files into individual lists\n",
        "def sort_drive(files):\n",
        "  #Create empty lists\n",
        "  intden_files = []\n",
        "  petdet_files = []\n",
        "\n",
        "  #Sort inputted files list\n",
        "  files.sort()\n",
        "\n",
        "  #Loop through drive list and sort into new lists\n",
        "  for i, file in enumerate(files):\n",
        "    if i % 2 == 0:\n",
        "      intden_files.append(file)\n",
        "    else:\n",
        "      petdet_files.append(file)\n",
        "\n",
        "  print(f'Inteden_files: {intden_files}')\n",
        "  print(f'petdet_files: {petdet_files}')\n",
        "  return intden_files, petdet_files\n",
        "\n",
        "\n",
        "\n",
        "#Check dates of inputted paths. Path is 43 char long, date is 8 char long (51)\n",
        "def get_date(data, pet):\n",
        "  date_data = data[43:51]\n",
        "  date_pet = pet[43:51]\n",
        "  if date_data != date_pet:\n",
        "    print(f'Error: mismatch between {data[43:]} and {pet[43:]}')\n",
        "  else:\n",
        "    # print(f'Processing {data[43:]} + {pet[43:]}')\n",
        "    return date_data, date_pet\n",
        "\n",
        "\n",
        "def extract_sample_name(input_string):\n",
        "    # Define the regular expression pattern to capture the desired substring\n",
        "    pattern = r'\\/\\d{8}_(\\w+)_(?:IntDen|petdet)\\.csv$'\n",
        "\n",
        "    # Use re.search to find the first match of the pattern in the input_string\n",
        "    match = re.search(pattern, input_string)\n",
        "\n",
        "    if match:\n",
        "        # Extract the captured group (the substring within the parentheses) from the match\n",
        "        return match.group(1)\n",
        "    else:\n",
        "        # Return None if no match is found\n",
        "        return None\n",
        "\n",
        "\n",
        "#Function that inputs an intdentcsv and petdet path\n",
        "#Returns cells_df, background_df\n",
        "def create_cells_df_and_background_df(data, pet):\n",
        "  #Remove first column of data\n",
        "  cells_df = pd.read_csv(data)\n",
        "  cells_df = cells_df.iloc[:,1:] #remove index column\n",
        "\n",
        "  #Make copy of cells_df and rename to background\n",
        "  background_df = cells_df.copy()\n",
        "\n",
        "  #Convert petdet csv into df\n",
        "  pet_df = pd.read_csv(pet)\n",
        "\n",
        "  #Count number of cells\n",
        "  cells = pet_df['Cell'].sum()\n",
        "  print(f'{pet[43:]} contains {cells} cells')\n",
        "\n",
        "  #Loop through pet_df cell column and separate data into two dfs\n",
        "  for i in range(len(pet_df.index)):\n",
        "\n",
        "    #Accessing correct columns\n",
        "    name = 'Chamber '+ str(i+1) + ' RawIntDen'\n",
        "\n",
        "    #If there is a cell, remove that data from the background list\n",
        "    if pet_df.loc[i]['Cell'] > 0:\n",
        "      background_df = background_df.drop([name],  axis=1)\n",
        "\n",
        "    #If there isn't a cell, remove that data from the cell list\n",
        "    else:\n",
        "      cells_df = cells_df.drop([name],  axis=1)\n",
        "\n",
        "  return cells_df, background_df\n",
        "\n",
        "def background_subtraction(cells_df, background_df):\n",
        "    #Get average of background\n",
        "    average_background_df = background_df.copy()\n",
        "    average_background_df = average_background_df.mean(axis = 1)\n",
        "    average_background_df = average_background_df.to_frame()\n",
        "    average_background_df.columns = ['Average Background']\n",
        "    #Subtract the background averages from times in cells_df\n",
        "    cells_df = cells_df.sub(average_background_df['Average Background'], axis=0)\n",
        "    return cells_df, average_background_df\n",
        "\n",
        "def background_division(cells_df, background_df):\n",
        "  #Get average of background\n",
        "  average_background_df = background_df.copy()\n",
        "  average_background_df = average_background_df.mean(axis = 1)\n",
        "  average_background_df = average_background_df.to_frame()\n",
        "  average_background_df.columns = ['Average Background']\n",
        "  #Subtract the background averages from times in cells_df\n",
        "  cells_df = cells_df.div(average_background_df['Average Background'], axis=0)\n",
        "  return cells_df, average_background_df\n",
        "\n",
        "def dicarlo_norm(cells_df, background_df):\n",
        "  average_background = background_df.iloc[0].mean()\n",
        "  cells_df = cells_df / average_background\n",
        "\n",
        "  # for column in cells_df.columns:\n",
        "  #   divisor = cells_df[column][0]  # Get the first index value of the column\n",
        "  #   cells_df[column] = cells_df[column] / divisor\n",
        "  return cells_df\n",
        "\n",
        "def binning_correction(cells_df):\n",
        "  #Fold change code\n",
        "  for column in cells_df.columns:\n",
        "    divisor = cells_df[column][0]  # Get the first index value of the column\n",
        "    cells_df[column] = cells_df[column] / divisor\n",
        "  return cells_df\n",
        "\n",
        "def format_background_df(average_background_df, cell_type, intden_file):\n",
        "  average_background_df['Cell Type'] = cell_type\n",
        "  average_background_df.index.name = 'Time'\n",
        "\n",
        "  # Reset index and create 'Time' column\n",
        "  average_background_df.reset_index(inplace=True)\n",
        "  average_background_df.rename(columns={'index': 'Time'}, inplace=True)\n",
        "  average_background_df['File'] = intden_file\n",
        "  return average_background_df\n",
        "\n"
      ],
      "metadata": {
        "id": "2-sYO_enuXmB"
      },
      "execution_count": null,
      "outputs": []
    },
    {
      "cell_type": "markdown",
      "source": [
        "Use the functions to create csv files of cell intensities and background intensities"
      ],
      "metadata": {
        "id": "79EcrOFyJTEn"
      }
    },
    {
      "cell_type": "code",
      "source": [
        "#Utilizing all functions:\n",
        "\n",
        "files = find_files()\n",
        "save_cells_path = '/content/drive/My Drive/MMP9 Strip Plot/'\n",
        "save_background_path = '/content/drive/My Drive/MMP9 Strip Plot/Background/'\n",
        "\n",
        "#Sort the google drive and separate files\n",
        "intden_files, petdet_files = sort_drive(files)\n",
        "\n",
        "#Loop through each file within the lists, zip allows iteration of two lists in parallel\n",
        "for intden_file, petdet_file in zip(intden_files, petdet_files):\n",
        "\n",
        "  #Get the dates of each file, make sure they match\n",
        "  date_data, date_pet = get_date(intden_file, petdet_file)\n",
        "  if date_data == date_pet:\n",
        "\n",
        "    #Get cell type from file name\n",
        "    cell_type = extract_sample_name(intden_file)\n",
        "\n",
        "    #Rename Cells if necessary\n",
        "    if cell_type == 'MDA': cell_type = 'MDA MB 231'\n",
        "    if cell_type == 'PMA': cell_type = 'MDA + PMA'\n",
        "\n",
        "    #Create dataframes\n",
        "    cells_df, background_df = create_cells_df_and_background_df(intden_file, petdet_file)\n",
        "\n",
        "    #Normalize df by dividing each value by t0 value\n",
        "    # dicarlo_df = dicarlo_norm(cells_df, background_df)\n",
        "\n",
        "    # #Background subtract the average background chamber at each time point to cell containing chambers, return avg background\n",
        "    # cells_df, average_background_df = background_subtraction(cells_df, background_df)\n",
        "\n",
        "    # cells_df, average_background_df = background_division(cells_df, background_df)\n",
        "\n",
        "    #Binning correction: change intensity to fold change vs chamber intensity at t=0\n",
        "    cells_df = binning_correction(cells_df)\n",
        "\n",
        "    # #Format average background (Add time column, cell type, filename)\n",
        "    # average_background_df = format_background_df(average_background_df, cell_type, intden_file)\n",
        "\n",
        "    #Declare paths for processed files\n",
        "    cells_formatted_name = f\"{save_cells_path}{date_data}_{cell_type}_cells_only.csv\"\n",
        "    background_formatted_name = f\"{save_background_path}{date_data}_{cell_type}_background.csv\"\n",
        "\n",
        "    #Save processed files\n",
        "    # cells_df.to_csv(cells_formatted_name)\n",
        "\n",
        "\n",
        "    # dicarlo_df.to_csv(cells_formatted_name)\n",
        "    # average_background_df.to_csv(background_formatted_name)\n",
        "\n",
        "    print(f\"{cells_formatted_name} saved\")\n",
        "    # print(f\"{background_formatted_name} saved \\n\")\n",
        "\n",
        "\n",
        "  #Stop loop if the dates of files do not match\n",
        "  else:\n",
        "    break\n",
        "\n",
        "print('we done')"
      ],
      "metadata": {
        "colab": {
          "base_uri": "https://localhost:8080/"
        },
        "id": "sib6XNzR_bJk",
        "outputId": "4028a9af-2ac4-4067-c7da-9ce003469dcf"
      },
      "execution_count": null,
      "outputs": [
        {
          "output_type": "stream",
          "name": "stdout",
          "text": [
            "Inteden_files: ['/content/drive/My Drive/MMP9 Before Petdet/20220527_A375_IntDen.csv', '/content/drive/My Drive/MMP9 Before Petdet/20220607_A375_IntDen.csv', '/content/drive/My Drive/MMP9 Before Petdet/20220706_MDA_IntDen.csv', '/content/drive/My Drive/MMP9 Before Petdet/20220803_A375_IntDen.csv', '/content/drive/My Drive/MMP9 Before Petdet/20221012_PMA_IntDen.csv', '/content/drive/My Drive/MMP9 Before Petdet/20221102_PMA_IntDen.csv', '/content/drive/My Drive/MMP9 Before Petdet/20221109_PMA_IntDen.csv', '/content/drive/My Drive/MMP9 Before Petdet/20221116_MDA_IntDen.csv', '/content/drive/My Drive/MMP9 Before Petdet/20221121_MDA_IntDen.csv']\n",
            "petdet_files: ['/content/drive/My Drive/MMP9 Before Petdet/20220527_A375_petdet.csv', '/content/drive/My Drive/MMP9 Before Petdet/20220607_A375_petdet.csv', '/content/drive/My Drive/MMP9 Before Petdet/20220706_MDA_petdet.csv', '/content/drive/My Drive/MMP9 Before Petdet/20220803_A375_petdet.csv', '/content/drive/My Drive/MMP9 Before Petdet/20221012_PMA_petdet.csv', '/content/drive/My Drive/MMP9 Before Petdet/20221102_PMA_petdet.csv', '/content/drive/My Drive/MMP9 Before Petdet/20221109_PMA_petdet.csv', '/content/drive/My Drive/MMP9 Before Petdet/20221116_MDA_petdet.csv', '/content/drive/My Drive/MMP9 Before Petdet/20221121_MDA_petdet.csv']\n",
            "20220527_A375_petdet.csv contains 37 cells\n",
            "/content/drive/My Drive/MMP9 Strip Plot/20220527_A375_cells_only.csv saved\n",
            "20220607_A375_petdet.csv contains 58 cells\n",
            "/content/drive/My Drive/MMP9 Strip Plot/20220607_A375_cells_only.csv saved\n",
            "20220706_MDA_petdet.csv contains 41 cells\n",
            "/content/drive/My Drive/MMP9 Strip Plot/20220706_MDA MB 231_cells_only.csv saved\n",
            "20220803_A375_petdet.csv contains 117 cells\n",
            "/content/drive/My Drive/MMP9 Strip Plot/20220803_A375_cells_only.csv saved\n",
            "20221012_PMA_petdet.csv contains 18 cells\n",
            "/content/drive/My Drive/MMP9 Strip Plot/20221012_MDA + PMA_cells_only.csv saved\n",
            "20221102_PMA_petdet.csv contains 72 cells\n",
            "/content/drive/My Drive/MMP9 Strip Plot/20221102_MDA + PMA_cells_only.csv saved\n",
            "20221109_PMA_petdet.csv contains 79 cells\n",
            "/content/drive/My Drive/MMP9 Strip Plot/20221109_MDA + PMA_cells_only.csv saved\n",
            "20221116_MDA_petdet.csv contains 105 cells\n",
            "/content/drive/My Drive/MMP9 Strip Plot/20221116_MDA MB 231_cells_only.csv saved\n",
            "20221121_MDA_petdet.csv contains 41 cells\n",
            "/content/drive/My Drive/MMP9 Strip Plot/20221121_MDA MB 231_cells_only.csv saved\n",
            "we done\n"
          ]
        }
      ]
    },
    {
      "cell_type": "code",
      "source": [
        "def make_detective(intden_files, petdet_files):\n",
        "  headers = {'Chamber #': [], 'Cell':[], 'Petdet File': [], 'Matching File':[]}\n",
        "  unfiltered_df = pd.DataFrame(data=headers)\n",
        "\n",
        "  for intden_file, petdet_file in zip(intden_files, petdet_files):\n",
        "    #Get the dates of each file, make sure they match\n",
        "    date_data, date_pet = get_date(intden_file, petdet_file)\n",
        "    if date_data == date_pet:\n",
        "      #Get cell type from file name\n",
        "      cell_type = extract_sample_name(intden_file)\n",
        "\n",
        "      #Rename Cells if necessary\n",
        "      if cell_type == 'MDA': cell_type = 'MDA MB 231'\n",
        "      if cell_type == 'PMA': cell_type = 'MDA + PMA'\n",
        "\n",
        "      matching_file = f\"{save_cells_path}{date_data}_{cell_type}_cells_only.csv\"\n",
        "\n",
        "      temp_df = pd.read_csv(petdet_file)\n",
        "      # temp_df = temp_df[temp_df['Cell']>0]\n",
        "      temp_df = temp_df.iloc[:, 1:] #remove first unnamed column\n",
        "      temp_df = temp_df.drop('Max Intensity', axis=1)\n",
        "      temp_df['Petdet File'] = petdet_file\n",
        "      temp_df['Matching File'] = matching_file\n",
        "      temp_df['Date'] = date_pet\n",
        "      temp_df['Cell Type'] = cell_type\n",
        "\n",
        "      unfiltered_df = pd.concat([unfiltered_df, temp_df], axis=0)\n",
        "      # Reset the index of the combined DataFrame\n",
        "      unfiltered_df.reset_index(drop=True, inplace=True)\n",
        "\n",
        "      the_detective = unfiltered_df.filter(regex='^(?!Unnamed).*')\n",
        "\n",
        "    #Stop loop if the dates of files do not match\n",
        "    else:\n",
        "      break\n",
        "\n",
        "  return the_detective\n",
        "\n",
        "the_detective = make_detective(intden_files, petdet_files)"
      ],
      "metadata": {
        "id": "navEgzfXea9b"
      },
      "execution_count": null,
      "outputs": []
    },
    {
      "cell_type": "code",
      "source": [
        "#Declare paths for processed files\n",
        "background_formatted_name = f\"{save_background_path}{date_data}_{cell_type}_background.csv\"\n",
        "detective_save_path = '/content/drive/My Drive/the_detective.csv'\n",
        "\n",
        "#Save processed files\n",
        "the_detective.to_csv(detective_save_path)"
      ],
      "metadata": {
        "id": "baormPG2__U_"
      },
      "execution_count": null,
      "outputs": []
    },
    {
      "cell_type": "code",
      "source": [
        "count = the_detective['Chamber #'].count()\n",
        "cell_sum = the_detective['Cell'].sum()\n",
        "multi_capture = the_detective[the_detective['Cell'] > 1].count()\n",
        "\n",
        "print(cell_sum)\n",
        "print(count)\n",
        "print(multi_capture[1])\n",
        "percent_multi = 1- multi_capture[1]/ count\n",
        "print(f'{percent_multi:.1%}')\n"
      ],
      "metadata": {
        "colab": {
          "base_uri": "https://localhost:8080/"
        },
        "id": "QOvQC8Gxnuj-",
        "outputId": "3f90a29d-f897-4387-c51f-823fd1d5566c"
      },
      "execution_count": null,
      "outputs": [
        {
          "output_type": "stream",
          "name": "stdout",
          "text": [
            "568.0\n",
            "1440\n",
            "37\n",
            "97.4%\n"
          ]
        }
      ]
    },
    {
      "cell_type": "code",
      "source": [
        "# Use this block if the detective includes 0 captures\n",
        "\n",
        "total_chambers = the_detective['Chamber #'].count()\n",
        "cell_sum = the_detective['Cell'].sum()\n",
        "\n",
        "double_capture = the_detective[the_detective['Cell'] == 2].count()\n",
        "multi_capture = the_detective[the_detective['Cell'] > 1].count()\n",
        "\n",
        "total_capture = the_detective[the_detective['Cell'] > 0].sum()\n",
        "single_capture = the_detective[the_detective['Cell'] == 1].count()\n",
        "\n",
        "print(f'Number of chambers: {total_chambers} ({total_chambers} / 160 = {total_chambers / 160:.0f} experiments)')\n",
        "print(f'Number of double capture: {double_capture[1]}')\n",
        "print(f'Number of multi capture (>= 2): {multi_capture[1]}')\n",
        "\n",
        "print(f'Number of Single capture: {single_capture[1]}')\n",
        "\n",
        "percent_double = double_capture[1]/ total_chambers\n",
        "print(f'Double Capture / Total chambers: {percent_double:.1%}')\n",
        "\n",
        "percent_single = single_capture[1]/ total_chambers\n",
        "print(f'Single capture / Total chambers: {percent_single:.1%}')\n",
        "\n",
        "\n",
        "percent_single = single_capture[1]/ cell_sum\n",
        "print(f'Single capture / cell_sum: {percent_single:.1%}')\n"
      ],
      "metadata": {
        "colab": {
          "base_uri": "https://localhost:8080/"
        },
        "id": "nB_ka9cjp8jP",
        "outputId": "42742576-e93e-4805-bba3-2822661e6d81"
      },
      "execution_count": null,
      "outputs": [
        {
          "output_type": "execute_result",
          "data": {
            "text/plain": [
              "Chamber #        492\n",
              "Cell             492\n",
              "Petdet File      492\n",
              "Matching File    492\n",
              "Date             492\n",
              "Cell Type        492\n",
              "dtype: int64"
            ]
          },
          "metadata": {},
          "execution_count": 17
        }
      ]
    }
  ]
}